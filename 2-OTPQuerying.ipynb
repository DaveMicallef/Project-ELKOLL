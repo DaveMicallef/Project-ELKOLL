{
 "cells": [
  {
   "cell_type": "markdown",
   "metadata": {},
   "source": [
    "#### Sample API query\n",
    "http://localhost:8080/otp/routers/default/plan?fromPlace=57.68845%2C11.93338&toPlace=57.67121%2C11.93156&time=1%3A02pm&date=11-10-2022&mode=TRANSIT%2CWALK&maxWalkDistance=5000&arriveBy=false\n"
   ]
  },
  {
   "cell_type": "code",
   "execution_count": 1,
   "metadata": {},
   "outputs": [],
   "source": [
    "import pandas as pd\n",
    "import requests \n",
    "from mainCopy import make_query, parse_OTP_response\n",
    "from utils import plot\n",
    "import numpy as np"
   ]
  },
  {
   "attachments": {},
   "cell_type": "markdown",
   "metadata": {},
   "source": [
    "## 1. Querying"
   ]
  },
  {
   "cell_type": "code",
   "execution_count": 10,
   "metadata": {},
   "outputs": [],
   "source": [
    "PATH = 'Q/georequestsSummer.csv'\n",
    "OTP_API = \"http://localhost:8080/otp/routers/default/plan\""
   ]
  },
  {
   "cell_type": "code",
   "execution_count": 15,
   "metadata": {},
   "outputs": [
    {
     "name": "stdout",
     "output_type": "stream",
     "text": [
      "Total trips in dataframe: 172277\n"
     ]
    },
    {
     "data": {
      "text/html": [
       "<div>\n",
       "<style scoped>\n",
       "    .dataframe tbody tr th:only-of-type {\n",
       "        vertical-align: middle;\n",
       "    }\n",
       "\n",
       "    .dataframe tbody tr th {\n",
       "        vertical-align: top;\n",
       "    }\n",
       "\n",
       "    .dataframe thead th {\n",
       "        text-align: right;\n",
       "    }\n",
       "</style>\n",
       "<table border=\"1\" class=\"dataframe\">\n",
       "  <thead>\n",
       "    <tr style=\"text-align: right;\">\n",
       "      <th></th>\n",
       "      <th>origin_x</th>\n",
       "      <th>origin_y</th>\n",
       "      <th>destination_x</th>\n",
       "      <th>destination_y</th>\n",
       "      <th>treq</th>\n",
       "      <th>END_TIME</th>\n",
       "      <th>duration_in_m</th>\n",
       "    </tr>\n",
       "    <tr>\n",
       "      <th>TRIP_ID</th>\n",
       "      <th></th>\n",
       "      <th></th>\n",
       "      <th></th>\n",
       "      <th></th>\n",
       "      <th></th>\n",
       "      <th></th>\n",
       "      <th></th>\n",
       "    </tr>\n",
       "  </thead>\n",
       "  <tbody>\n",
       "    <tr>\n",
       "      <th>542322</th>\n",
       "      <td>12.001319</td>\n",
       "      <td>57.714793</td>\n",
       "      <td>12.008305</td>\n",
       "      <td>57.714067</td>\n",
       "      <td>2022-06-29 21:54:46</td>\n",
       "      <td>2022-06-22 21:57:23</td>\n",
       "      <td>2.616667</td>\n",
       "    </tr>\n",
       "    <tr>\n",
       "      <th>542323</th>\n",
       "      <td>11.985716</td>\n",
       "      <td>57.700373</td>\n",
       "      <td>11.971456</td>\n",
       "      <td>57.712969</td>\n",
       "      <td>2022-06-29 21:55:01</td>\n",
       "      <td>2022-06-22 22:02:13</td>\n",
       "      <td>7.200000</td>\n",
       "    </tr>\n",
       "    <tr>\n",
       "      <th>542324</th>\n",
       "      <td>11.986538</td>\n",
       "      <td>57.700052</td>\n",
       "      <td>11.973469</td>\n",
       "      <td>57.707337</td>\n",
       "      <td>2022-06-29 21:55:08</td>\n",
       "      <td>2022-06-22 22:02:51</td>\n",
       "      <td>7.716667</td>\n",
       "    </tr>\n",
       "    <tr>\n",
       "      <th>542325</th>\n",
       "      <td>11.934732</td>\n",
       "      <td>57.698272</td>\n",
       "      <td>11.937314</td>\n",
       "      <td>57.691658</td>\n",
       "      <td>2022-06-29 21:55:39</td>\n",
       "      <td>2022-06-22 21:59:17</td>\n",
       "      <td>3.633333</td>\n",
       "    </tr>\n",
       "    <tr>\n",
       "      <th>542326</th>\n",
       "      <td>11.959720</td>\n",
       "      <td>57.696393</td>\n",
       "      <td>11.974631</td>\n",
       "      <td>57.699691</td>\n",
       "      <td>2022-06-29 21:56:20</td>\n",
       "      <td>2022-06-22 22:01:03</td>\n",
       "      <td>4.716667</td>\n",
       "    </tr>\n",
       "    <tr>\n",
       "      <th>...</th>\n",
       "      <td>...</td>\n",
       "      <td>...</td>\n",
       "      <td>...</td>\n",
       "      <td>...</td>\n",
       "      <td>...</td>\n",
       "      <td>...</td>\n",
       "      <td>...</td>\n",
       "    </tr>\n",
       "    <tr>\n",
       "      <th>751508</th>\n",
       "      <td>11.935584</td>\n",
       "      <td>57.669435</td>\n",
       "      <td>11.955417</td>\n",
       "      <td>57.693824</td>\n",
       "      <td>2022-07-03 23:56:07</td>\n",
       "      <td>2022-08-15 00:06:12</td>\n",
       "      <td>10.083333</td>\n",
       "    </tr>\n",
       "    <tr>\n",
       "      <th>751509</th>\n",
       "      <td>11.948698</td>\n",
       "      <td>57.699330</td>\n",
       "      <td>11.977734</td>\n",
       "      <td>57.698754</td>\n",
       "      <td>2022-07-03 23:58:51</td>\n",
       "      <td>2022-08-15 00:12:05</td>\n",
       "      <td>13.233333</td>\n",
       "    </tr>\n",
       "    <tr>\n",
       "      <th>751510</th>\n",
       "      <td>11.921802</td>\n",
       "      <td>57.719043</td>\n",
       "      <td>11.932929</td>\n",
       "      <td>57.719492</td>\n",
       "      <td>2022-07-03 23:59:12</td>\n",
       "      <td>2022-08-15 00:02:01</td>\n",
       "      <td>2.816667</td>\n",
       "    </tr>\n",
       "    <tr>\n",
       "      <th>751511</th>\n",
       "      <td>11.945607</td>\n",
       "      <td>57.698820</td>\n",
       "      <td>11.924515</td>\n",
       "      <td>57.684249</td>\n",
       "      <td>2022-07-03 23:59:16</td>\n",
       "      <td>2022-08-15 00:08:49</td>\n",
       "      <td>9.550000</td>\n",
       "    </tr>\n",
       "    <tr>\n",
       "      <th>751512</th>\n",
       "      <td>11.945965</td>\n",
       "      <td>57.698847</td>\n",
       "      <td>11.946735</td>\n",
       "      <td>57.697390</td>\n",
       "      <td>2022-07-03 23:59:23</td>\n",
       "      <td>2022-08-15 00:02:22</td>\n",
       "      <td>2.983333</td>\n",
       "    </tr>\n",
       "  </tbody>\n",
       "</table>\n",
       "<p>172277 rows × 7 columns</p>\n",
       "</div>"
      ],
      "text/plain": [
       "          origin_x   origin_y  destination_x  destination_y  \\\n",
       "TRIP_ID                                                       \n",
       "542322   12.001319  57.714793      12.008305      57.714067   \n",
       "542323   11.985716  57.700373      11.971456      57.712969   \n",
       "542324   11.986538  57.700052      11.973469      57.707337   \n",
       "542325   11.934732  57.698272      11.937314      57.691658   \n",
       "542326   11.959720  57.696393      11.974631      57.699691   \n",
       "...            ...        ...            ...            ...   \n",
       "751508   11.935584  57.669435      11.955417      57.693824   \n",
       "751509   11.948698  57.699330      11.977734      57.698754   \n",
       "751510   11.921802  57.719043      11.932929      57.719492   \n",
       "751511   11.945607  57.698820      11.924515      57.684249   \n",
       "751512   11.945965  57.698847      11.946735      57.697390   \n",
       "\n",
       "                       treq             END_TIME  duration_in_m  \n",
       "TRIP_ID                                                          \n",
       "542322  2022-06-29 21:54:46  2022-06-22 21:57:23       2.616667  \n",
       "542323  2022-06-29 21:55:01  2022-06-22 22:02:13       7.200000  \n",
       "542324  2022-06-29 21:55:08  2022-06-22 22:02:51       7.716667  \n",
       "542325  2022-06-29 21:55:39  2022-06-22 21:59:17       3.633333  \n",
       "542326  2022-06-29 21:56:20  2022-06-22 22:01:03       4.716667  \n",
       "...                     ...                  ...            ...  \n",
       "751508  2022-07-03 23:56:07  2022-08-15 00:06:12      10.083333  \n",
       "751509  2022-07-03 23:58:51  2022-08-15 00:12:05      13.233333  \n",
       "751510  2022-07-03 23:59:12  2022-08-15 00:02:01       2.816667  \n",
       "751511  2022-07-03 23:59:16  2022-08-15 00:08:49       9.550000  \n",
       "751512  2022-07-03 23:59:23  2022-08-15 00:02:22       2.983333  \n",
       "\n",
       "[172277 rows x 7 columns]"
      ]
     },
     "execution_count": 15,
     "metadata": {},
     "output_type": "execute_result"
    }
   ],
   "source": [
    "df = pd.read_csv(PATH, index_col=[0], skiprows=[i for i in range(1,70001)])# skipping first n+1 (since n does not include the given row) rows since they were successful in the previous run\n",
    "#df = pd.read_csv(PATH)  # load the csv #index_col=[0]\n",
    "df.treq=pd.to_datetime(df.treq)\n",
    "\n",
    "print(\"Total trips in dataframe:\", len(df))\n",
    "df"
   ]
  },
  {
   "cell_type": "markdown",
   "metadata": {},
   "source": [
    "### Querying API\n",
    "*Ensure Grizzly server is running*\n",
    "\n",
    "java -Xmx4G -jar otp.jar --load inputFiles"
   ]
  },
  {
   "cell_type": "code",
   "execution_count": 17,
   "metadata": {},
   "outputs": [
    {
     "data": {
      "text/plain": [
       "{'success': True,\n",
       " 'treq_r': 1656532440000,\n",
       " 'n_itineraries': 1,\n",
       " 'startTime': 1656532440000,\n",
       " 'endTime': 1656532902000,\n",
       " 'duration': 462,\n",
       " 'walkDistance': 541.5070000000001,\n",
       " 'transfers': 0,\n",
       " 'transitTime': 0,\n",
       " 'waitingTime': 0,\n",
       " 'modes': [['WALK', 1656532440000, 1656532902000, 462, 541]]}"
      ]
     },
     "execution_count": 17,
     "metadata": {},
     "output_type": "execute_result"
    }
   ],
   "source": [
    "row = df.head(1).squeeze()\n",
    "query = make_query(row)\n",
    "r = requests.get(OTP_API, params=query) #route r as response from API\n",
    "route = parse_OTP_response(r.json()) #route r parsed into JSON\n",
    "route"
   ]
  },
  {
   "cell_type": "code",
   "execution_count": 14,
   "metadata": {},
   "outputs": [],
   "source": [
    "routeList = []\n",
    "\n",
    "for index, row in df.iterrows():\n",
    "    query = make_query(row)\n",
    "    r = requests.get(OTP_API, params=query) #route r as response from API\n",
    "    route = parse_OTP_response(r.json()) #route r parsed into JSON\n",
    "    routList=routeList.append(route)\n",
    "    \n",
    "dfResp = pd.DataFrame(routeList)\n",
    "dfResp.to_csv('R/responses.csv')\n"
   ]
  },
  {
   "cell_type": "code",
   "execution_count": 26,
   "metadata": {},
   "outputs": [
    {
     "data": {
      "text/plain": [
       "1916"
      ]
     },
     "execution_count": 26,
     "metadata": {},
     "output_type": "execute_result"
    }
   ],
   "source": [
    "dfResp['success'].value_counts()[False]\n",
    "#dfResp"
   ]
  }
 ],
 "metadata": {
  "kernelspec": {
   "display_name": "Python 3 (ipykernel)",
   "language": "python",
   "name": "python3"
  },
  "language_info": {
   "codemirror_mode": {
    "name": "ipython",
    "version": 3
   },
   "file_extension": ".py",
   "mimetype": "text/x-python",
   "name": "python",
   "nbconvert_exporter": "python",
   "pygments_lexer": "ipython3",
   "version": "3.9.12 (main, Apr  4 2022, 05:22:27) [MSC v.1916 64 bit (AMD64)]"
  },
  "vscode": {
   "interpreter": {
    "hash": "ad2bdc8ecc057115af97d19610ffacc2b4e99fae6737bb82f5d7fb13d2f2c186"
   }
  }
 },
 "nbformat": 4,
 "nbformat_minor": 2
}
